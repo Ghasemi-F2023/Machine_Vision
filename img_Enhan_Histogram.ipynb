{
 "cells": [
  {
   "attachments": {},
   "cell_type": "markdown",
   "metadata": {},
   "source": [
    "### Import necessary libraries"
   ]
  },
  {
   "cell_type": "code",
   "execution_count": 1,
   "metadata": {},
   "outputs": [],
   "source": [
    "import cv2\n",
    "import matplotlib.pyplot as plt\n",
    "import numpy as np\n",
    "from PIL import Image,ImageOps "
   ]
  },
  {
   "attachments": {},
   "cell_type": "markdown",
   "metadata": {},
   "source": [
    "<div style=\"border-radius:10px; padding: 15px; background-color: #90EE90; font-size:110%; text-align:left;color:black\">\n",
    "    \n",
    "1 - Does the original image need to enhance? (use original image histogram to prove your answer) "
   ]
  },
  {
   "cell_type": "code",
   "execution_count": 2,
   "metadata": {},
   "outputs": [],
   "source": [
    "#read image\n",
    "img = cv2.imread(r'E:\\TA Filoger\\Exercise\\DIP\\DIP16\\Exercise_16\\original.jpg',0)\n",
    "img_pil = Image.open(r'E:\\TA Filoger\\Exercise\\DIP\\DIP16\\Exercise_16\\original.jpg')"
   ]
  },
  {
   "cell_type": "code",
   "execution_count": 3,
   "metadata": {},
   "outputs": [],
   "source": [
    "def show_img_cv(image_title,img):\n",
    "    cv2.imshow(image_title,img)\n",
    "    cv2.waitKey(0)\n",
    "    cv2.destroyAllWindows()"
   ]
  },
  {
   "cell_type": "code",
   "execution_count": 4,
   "metadata": {},
   "outputs": [],
   "source": [
    "#show_img_cv('Orginal',img)"
   ]
  },
  {
   "cell_type": "code",
   "execution_count": 7,
   "metadata": {},
   "outputs": [],
   "source": [
    "#img_pil"
   ]
  },
  {
   "cell_type": "code",
   "execution_count": 8,
   "metadata": {},
   "outputs": [],
   "source": [
    "#function that plot histogram of image\n",
    "def display_hist_plt(img,bins=256, range=(0,256)):\n",
    "    plt.figure(figsize=(4,2),dpi=100)\n",
    "    plt.hist(img.flat,bins=bins,range=range,color ='red')\n",
    "    plt.show()"
   ]
  },
  {
   "cell_type": "code",
   "execution_count": 9,
   "metadata": {},
   "outputs": [
    {
     "data": {
      "image/png": "[encoded data removed]",
      "text/plain": [
       "<Figure size 400x200 with 1 Axes>"
      ]
     },
     "metadata": {
      "needs_background": "light"
     },
     "output_type": "display_data"
    }
   ],
   "source": [
    "display_hist_plt(img)"
   ]
  },
  {
   "attachments": {},
   "cell_type": "markdown",
   "metadata": {},
   "source": [
    "$P_x(j) = \\sum\\limits_{i=0}^{j} P_x(i)$"
   ]
  },
  {
   "cell_type": "code",
   "execution_count": 10,
   "metadata": {},
   "outputs": [],
   "source": [
    "def get_histogram(image,bins):\n",
    "    img = np.asanyarray(image)\n",
    "    img = img.flatten()\n",
    "    #array with size of bins, set to zeros\n",
    "    histogram = np.zeros(bins)\n",
    "\n",
    "    #loop through pixels\n",
    "    for pixel in img:\n",
    "        histogram[pixel] +=1\n",
    "\n",
    "    return histogram"
   ]
  },
  {
   "cell_type": "code",
   "execution_count": 11,
   "metadata": {},
   "outputs": [
    {
     "data": {
      "text/plain": [
       "[<matplotlib.lines.Line2D at 0x232ae70d490>]"
      ]
     },
     "execution_count": 11,
     "metadata": {},
     "output_type": "execute_result"
    },
    {
     "data": {
      "image/png": "[encoded data removed]",
      "text/plain": [
       "<Figure size 432x288 with 1 Axes>"
      ]
     },
     "metadata": {
      "needs_background": "light"
     },
     "output_type": "display_data"
    }
   ],
   "source": [
    "hist = get_histogram(img,256)\n",
    "plt.plot(hist)"
   ]
  },
  {
   "attachments": {},
   "cell_type": "markdown",
   "metadata": {},
   "source": [
    "<div style=\"border-radius:10px; padding: 15px; background-color: #90EE90; font-size:110%; text-align:left;color:black\">\n",
    "    \n",
    "2- enhance the original image to output image using contrast enhancement ways?"
   ]
  },
  {
   "attachments": {},
   "cell_type": "markdown",
   "metadata": {},
   "source": [
    "## Contrast Stretching"
   ]
  },
  {
   "cell_type": "code",
   "execution_count": 12,
   "metadata": {},
   "outputs": [],
   "source": [
    "min_new = 0\n",
    "max_new = 255\n",
    "min_old = np.min(img)\n",
    "max_old = np.max(img)\n",
    "\n",
    "cs_image = np.uint8(((img-min_old)/(max_old -min_old))*(max_new -min_new)+min_new)"
   ]
  },
  {
   "cell_type": "code",
   "execution_count": 14,
   "metadata": {},
   "outputs": [],
   "source": [
    "#show_img_cv('CS',cs_image)"
   ]
  },
  {
   "attachments": {},
   "cell_type": "markdown",
   "metadata": {},
   "source": [
    "## Histogram Equalization"
   ]
  },
  {
   "cell_type": "code",
   "execution_count": 15,
   "metadata": {},
   "outputs": [],
   "source": [
    "histequ_cv = cv2.equalizeHist(img)"
   ]
  },
  {
   "cell_type": "code",
   "execution_count": 18,
   "metadata": {},
   "outputs": [],
   "source": [
    "#show_img_cv('hist',histequ_cv)"
   ]
  },
  {
   "cell_type": "code",
   "execution_count": 19,
   "metadata": {},
   "outputs": [],
   "source": [
    "histequ_pil = ImageOps.equalize(img_pil)"
   ]
  },
  {
   "cell_type": "code",
   "execution_count": 20,
   "metadata": {},
   "outputs": [],
   "source": [
    "histequ_pil.show()"
   ]
  },
  {
   "attachments": {},
   "cell_type": "markdown",
   "metadata": {},
   "source": [
    "## Histogram Equalization Implementations"
   ]
  },
  {
   "cell_type": "code",
   "execution_count": 21,
   "metadata": {},
   "outputs": [],
   "source": [
    "#np.cumsum\n",
    "def cumsum(a):\n",
    "    result = [a[0]]\n",
    "    for i in range(1,len(a)):\n",
    "        result.append(result[i-1] + a[i])\n",
    "    return np.array(result)"
   ]
  },
  {
   "cell_type": "code",
   "execution_count": 22,
   "metadata": {},
   "outputs": [
    {
     "name": "stdout",
     "output_type": "stream",
     "text": [
      "[ 1  3  6 10 15]\n"
     ]
    }
   ],
   "source": [
    "a = [1,2,3,4,5]\n",
    "b = cumsum(a)\n",
    "print(b)"
   ]
  },
  {
   "cell_type": "code",
   "execution_count": 23,
   "metadata": {},
   "outputs": [
    {
     "data": {
      "text/plain": [
       "[<matplotlib.lines.Line2D at 0x232ae88cbb0>]"
      ]
     },
     "execution_count": 23,
     "metadata": {},
     "output_type": "execute_result"
    },
    {
     "data": {
      "image/png": "[encoded data removed]",
      "text/plain": [
       "<Figure size 432x288 with 1 Axes>"
      ]
     },
     "metadata": {
      "needs_background": "light"
     },
     "output_type": "display_data"
    }
   ],
   "source": [
    "cs_image = cumsum(hist)\n",
    "plt.plot(cs_image)"
   ]
  },
  {
   "cell_type": "code",
   "execution_count": 24,
   "metadata": {},
   "outputs": [
    {
     "data": {
      "text/plain": [
       "array([415393., 482569., 515907., 537399., 551761., 563821., 574937.,\n",
       "       583916., 591008., 597068., 602479., 607577., 612738., 617973.,\n",
       "       622747., 627247., 631507., 635635., 639196., 642287., 645156.,\n",
       "       647866., 650454., 652923., 655279., 657431., 659427., 661225.,\n",
       "       662915., 664423., 665785., 666980., 668069., 668998., 669988.,\n",
       "       670945., 671871., 672786., 673696., 674576., 675406., 676183.,\n",
       "       676852., 677487., 678074., 678584., 679106., 679581., 680092.,\n",
       "       680599., 681084., 681543., 682019., 682514., 682994., 683494.,\n",
       "       683961., 684506., 685040., 685581., 686146., 686856., 687790.,\n",
       "       688859., 690035., 691328., 692648., 693958., 695265., 696638.,\n",
       "       697985., 699463., 700937., 702426., 703928., 705424., 706944.,\n",
       "       708485., 710028., 711597., 713182., 714911., 716692., 718525.,\n",
       "       720305., 722138., 723859., 725541., 727073., 728591., 729954.,\n",
       "       731257., 732448., 733536., 734541., 735446., 736329., 737270.,\n",
       "       738167., 739121., 740018., 740864., 741784., 742619., 743433.,\n",
       "       744170., 744839., 745519., 746174., 746807., 747379., 747888.,\n",
       "       748365., 748875., 749371., 749908., 750385., 750851., 751311.,\n",
       "       751750., 752130., 752486., 752826., 753166., 753479., 753813.,\n",
       "       754155., 754482., 754814., 755139., 755536., 755928., 756431.,\n",
       "       757088., 757891., 758834., 759965., 761319., 762762., 764218.,\n",
       "       765669., 767079., 768373., 769604., 770753., 771944., 772969.,\n",
       "       773968., 774792., 775396., 775938., 776319., 776607., 776893.,\n",
       "       777125., 777334., 777533., 777742., 777942., 778125., 778305.,\n",
       "       778496., 778661., 778808., 778945., 779104., 779234., 779359.,\n",
       "       779505., 779635., 779779., 779948., 780094., 780254., 780411.,\n",
       "       780526., 780642., 780775., 780890., 780983., 781084., 781193.,\n",
       "       781291., 781391., 781507., 781611., 781714., 781836., 781940.,\n",
       "       782026., 782112., 782195., 782270., 782338., 782405., 782459.,\n",
       "       782506., 782559., 782613., 782675., 782724., 782769., 782820.,\n",
       "       782853., 782889., 782929., 782965., 783008., 783036., 783072.,\n",
       "       783110., 783151., 783209., 783266., 783323., 783383., 783456.,\n",
       "       783534., 783609., 783676., 783761., 783846., 783924., 784013.,\n",
       "       784125., 784251., 784375., 784550., 784778., 784979., 785078.,\n",
       "       785121., 785133., 785145., 785152., 785161., 785168., 785172.,\n",
       "       785178., 785181., 785190., 785199., 785210., 785216., 785228.,\n",
       "       785233., 785241., 785253., 785269., 785283., 785300., 785338.,\n",
       "       785396., 785479., 785704., 786432.])"
      ]
     },
     "execution_count": 24,
     "metadata": {},
     "output_type": "execute_result"
    }
   ],
   "source": [
    "cs_image"
   ]
  },
  {
   "attachments": {},
   "cell_type": "markdown",
   "metadata": {},
   "source": [
    "## Re Normalize cumsum values"
   ]
  },
  {
   "cell_type": "code",
   "execution_count": 27,
   "metadata": {},
   "outputs": [],
   "source": [
    "nj = (cs_image - cs_image.min())*255\n",
    "\n",
    "N = cs_image.max() - cs_image.min()\n",
    "\n",
    "cs = nj / N"
   ]
  },
  {
   "cell_type": "code",
   "execution_count": 28,
   "metadata": {},
   "outputs": [
    {
     "data": {
      "text/plain": [
       "array([  0.        ,  46.16733012,  69.07918036,  83.84975703,\n",
       "        93.72017497, 102.00852202, 109.64809629, 115.81899746,\n",
       "       120.69304035, 124.85783166, 128.57659168, 132.08023954,\n",
       "       135.62718474, 139.22498713, 142.50596299, 145.59862979,\n",
       "       148.52635437, 151.36336072, 153.81069106, 155.93500953,\n",
       "       157.90675643, 159.76922911, 161.54785616, 163.24469934,\n",
       "       164.86388223, 166.34286423, 167.71463377, 168.95032598,\n",
       "       170.11179418, 171.14818119, 172.08422834, 172.9055032 ,\n",
       "       173.65392856, 174.29239244, 174.97277914, 175.63048628,\n",
       "       176.26688839, 176.89573064, 177.52113659, 178.12592477,\n",
       "       178.69634998, 179.23035045, 179.69012691, 180.12653656,\n",
       "       180.52995777, 180.88046001, 181.23920936, 181.56565752,\n",
       "       181.91684702, 182.26528748, 182.59860823, 182.91406025,\n",
       "       183.24119567, 183.58138902, 183.91127348, 184.25490312,\n",
       "       184.57585321, 184.95040953, 185.31740599, 185.68921326,\n",
       "       186.07751476, 186.56546886, 187.20736904, 187.94204922,\n",
       "       188.75026614, 189.63889241, 190.54607467, 191.44638434,\n",
       "       192.34463224, 193.28823924, 194.21397751, 195.22974674,\n",
       "       196.24276693, 197.26609602, 198.29835947, 199.32649937,\n",
       "       200.37113349, 201.43020006, 202.49064115, 203.56895097,\n",
       "       204.65825695, 205.84652826, 207.07053706, 208.33028334,\n",
       "       209.55360488, 210.81335116, 211.9961244 , 213.15209452,\n",
       "       214.20497576, 215.24823536, 216.18496977, 217.08046863,\n",
       "       217.89899445, 218.64673255, 219.33742814, 219.9593978 ,\n",
       "       220.56624775, 221.21295875, 221.82943033, 222.48507569,\n",
       "       223.10154728, 223.68296864, 224.31524718, 224.88910869,\n",
       "       225.44853775, 225.95504785, 226.41482432, 226.88216064,\n",
       "       227.33231547, 227.7673506 , 228.16046292, 228.5102779 ,\n",
       "       228.83810058, 229.18860282, 229.52948342, 229.89854166,\n",
       "       230.22636434, 230.54662717, 230.86276645, 231.16447328,\n",
       "       231.42563181, 231.67029611, 231.90396427, 232.13763243,\n",
       "       232.35274459, 232.58228919, 232.81733187, 233.04206566,\n",
       "       233.27023574, 233.49359501, 233.76643695, 234.03584259,\n",
       "       234.38153402, 234.83306337, 235.38493258, 236.03301809,\n",
       "       236.81030835, 237.74085743, 238.73257259, 239.73322211,\n",
       "       240.73043535, 241.69947095, 242.58878447, 243.43480065,\n",
       "       244.22446158, 245.04298739, 245.74742817, 246.4340002 ,\n",
       "       247.00030186, 247.41540647, 247.787901  , 248.04974679,\n",
       "       248.24767747, 248.44423363, 248.60367778, 248.74731497,\n",
       "       248.88407957, 249.02771676, 249.16516862, 249.29093707,\n",
       "       249.41464374, 249.54591027, 249.65930805, 249.76033517,\n",
       "       249.85448969, 249.96376392, 250.05310762, 250.13901504,\n",
       "       250.23935489, 250.3286986 , 250.42766394, 250.54381076,\n",
       "       250.64415061, 250.7541121 , 250.86201181, 250.94104663,\n",
       "       251.02076871, 251.11217419, 251.19120901, 251.25512412,\n",
       "       251.32453731, 251.39944858, 251.46679999, 251.53552592,\n",
       "       251.61524799, 251.68672296, 251.75751067, 251.8413563 ,\n",
       "       251.91283127, 251.97193556, 252.03103986, 252.08808238,\n",
       "       252.13962683, 252.18636046, 252.23240684, 252.26951884,\n",
       "       252.30182002, 252.33824477, 252.37535677, 252.41796684,\n",
       "       252.45164255, 252.48256922, 252.51761944, 252.540299  ,\n",
       "       252.56504033, 252.5925307 , 252.61727204, 252.64682419,\n",
       "       252.66606745, 252.69080878, 252.71692464, 252.74510227,\n",
       "       252.78496331, 252.82413709, 252.86331086, 252.90454642,\n",
       "       252.95471635, 253.00832258, 253.05986702, 253.10591339,\n",
       "       253.16433043, 253.22274747, 253.2763537 , 253.33751978,\n",
       "       253.41449282, 253.50108749, 253.58630764, 253.70657801,\n",
       "       253.86327313, 254.00141225, 254.06945092, 254.09900307,\n",
       "       254.10725018, 254.11549729, 254.12030811, 254.12649344,\n",
       "       254.13130426, 254.13405329, 254.13817685, 254.14023863,\n",
       "       254.14642396, 254.15260929, 254.16016915, 254.1642927 ,\n",
       "       254.17253981, 254.17597611, 254.18147418, 254.1897213 ,\n",
       "       254.20071744, 254.21033907, 254.22202248, 254.24813834,\n",
       "       254.28799937, 254.3450419 , 254.49967524, 255.        ])"
      ]
     },
     "execution_count": 28,
     "metadata": {},
     "output_type": "execute_result"
    }
   ],
   "source": [
    "cs"
   ]
  },
  {
   "cell_type": "code",
   "execution_count": 29,
   "metadata": {},
   "outputs": [],
   "source": [
    "cs = cs.astype('uint8')"
   ]
  },
  {
   "cell_type": "code",
   "execution_count": 30,
   "metadata": {},
   "outputs": [],
   "source": [
    "img_flat  = np.array(img_pil)\n",
    "flat = img_flat.flatten()"
   ]
  },
  {
   "cell_type": "code",
   "execution_count": 31,
   "metadata": {},
   "outputs": [],
   "source": [
    "img_new = cs[flat]"
   ]
  },
  {
   "cell_type": "code",
   "execution_count": 32,
   "metadata": {},
   "outputs": [
    {
     "data": {
      "image/png": "[encoded data removed]",
      "text/plain": [
       "<Figure size 400x200 with 1 Axes>"
      ]
     },
     "metadata": {
      "needs_background": "light"
     },
     "output_type": "display_data"
    }
   ],
   "source": [
    "display_hist_plt(img_new)"
   ]
  },
  {
   "cell_type": "code",
   "execution_count": 34,
   "metadata": {},
   "outputs": [],
   "source": [
    "img_new.shape\n",
    "img_new = np.reshape(img_new,img.shape)"
   ]
  },
  {
   "cell_type": "code",
   "execution_count": 35,
   "metadata": {},
   "outputs": [
    {
     "data": {
      "text/plain": [
       "<matplotlib.image.AxesImage at 0x232aeab7d30>"
      ]
     },
     "execution_count": 35,
     "metadata": {},
     "output_type": "execute_result"
    },
    {
     "data": {
      "image/png": "[encoded data removed]",
      "text/plain": [
       "<Figure size 432x288 with 2 Axes>"
      ]
     },
     "metadata": {
      "needs_background": "light"
     },
     "output_type": "display_data"
    }
   ],
   "source": [
    "plt.subplot(121)\n",
    "plt.imshow(img_pil,cmap='gray')\n",
    "plt.subplot(122)\n",
    "plt.imshow(img_new,cmap='gray')"
   ]
  },
  {
   "attachments": {},
   "cell_type": "markdown",
   "metadata": {},
   "source": [
    "## Gamma"
   ]
  },
  {
   "cell_type": "code",
   "execution_count": 36,
   "metadata": {},
   "outputs": [],
   "source": [
    "gamma = 0.4\n",
    "gamma_img = np.uint8(((img/255)**gamma)*255)"
   ]
  },
  {
   "cell_type": "code",
   "execution_count": 37,
   "metadata": {},
   "outputs": [],
   "source": [
    "show_img_cv('gamma',gamma_img)"
   ]
  },
  {
   "attachments": {},
   "cell_type": "markdown",
   "metadata": {},
   "source": [
    "<div style=\"border-radius:10px; padding: 15px; background-color: #90EE90; font-size:110%; text-align:left;color:black\">\n",
    "    \n",
    "3- Plot the output image histogram."
   ]
  },
  {
   "cell_type": "code",
   "execution_count": 38,
   "metadata": {},
   "outputs": [
    {
     "data": {
      "image/png": "[encoded data removed]",
      "text/plain": [
       "<Figure size 400x200 with 1 Axes>"
      ]
     },
     "metadata": {
      "needs_background": "light"
     },
     "output_type": "display_data"
    }
   ],
   "source": [
    "display_hist_plt(histequ_cv)"
   ]
  },
  {
   "attachments": {},
   "cell_type": "markdown",
   "metadata": {},
   "source": [
    "# Contrast Enchantment of Color Image"
   ]
  },
  {
   "attachments": {},
   "cell_type": "markdown",
   "metadata": {},
   "source": [
    "## YUV"
   ]
  },
  {
   "cell_type": "code",
   "execution_count": 39,
   "metadata": {},
   "outputs": [],
   "source": [
    "img_color = cv2.imread('Low_light.jpg')"
   ]
  },
  {
   "cell_type": "code",
   "execution_count": 40,
   "metadata": {},
   "outputs": [],
   "source": [
    "# convert Image to YUV\n",
    "img_yuv = cv2.cvtColor(img_color,cv2.COLOR_BGR2YUV)"
   ]
  },
  {
   "cell_type": "code",
   "execution_count": 41,
   "metadata": {},
   "outputs": [],
   "source": [
    "#equalize the histogram of  the Y channel\n",
    "img_yuv[:,:,0] = cv2.equalizeHist(img_yuv[:,:,0])"
   ]
  },
  {
   "cell_type": "code",
   "execution_count": 42,
   "metadata": {},
   "outputs": [],
   "source": [
    "#Convert the YUV image back to BGR format\n",
    "img_output = cv2.cvtColor(img_yuv,cv2.COLOR_YUV2BGR)"
   ]
  },
  {
   "cell_type": "code",
   "execution_count": 43,
   "metadata": {},
   "outputs": [
    {
     "data": {
      "text/plain": [
       "-1"
      ]
     },
     "execution_count": 43,
     "metadata": {},
     "output_type": "execute_result"
    }
   ],
   "source": [
    "cv2.imshow(\"Color input Image\",img_color)\n",
    "cv2.imshow(\"Histogram equalize\",img_output)\n",
    "cv2.waitKey(0)"
   ]
  },
  {
   "attachments": {},
   "cell_type": "markdown",
   "metadata": {},
   "source": [
    "## LAB"
   ]
  },
  {
   "cell_type": "code",
   "execution_count": 44,
   "metadata": {},
   "outputs": [],
   "source": [
    "img_Lab = cv2.cvtColor(img_color,cv2.COLOR_BGR2LAB)"
   ]
  },
  {
   "cell_type": "code",
   "execution_count": 46,
   "metadata": {},
   "outputs": [],
   "source": [
    "# spilt the image\n",
    "l_channels,a_channels,b_channels = cv2.split(img_Lab)"
   ]
  },
  {
   "cell_type": "code",
   "execution_count": 47,
   "metadata": {},
   "outputs": [],
   "source": [
    "l_channel_equalize = cv2.equalizeHist(l_channels)"
   ]
  },
  {
   "cell_type": "code",
   "execution_count": 54,
   "metadata": {},
   "outputs": [],
   "source": [
    "# merge the channels\n",
    "img_lab_equalize = cv2.merge((l_channel_equalize,b_channels,a_channels))"
   ]
  },
  {
   "cell_type": "code",
   "execution_count": 55,
   "metadata": {},
   "outputs": [],
   "source": [
    "# convert LAB to BGR\n",
    "img_out = cv2.cvtColor(img_lab_equalize,cv2.COLOR_LAB2BGR)"
   ]
  },
  {
   "cell_type": "code",
   "execution_count": 56,
   "metadata": {},
   "outputs": [
    {
     "data": {
      "text/plain": [
       "-1"
      ]
     },
     "execution_count": 56,
     "metadata": {},
     "output_type": "execute_result"
    }
   ],
   "source": [
    "cv2.imshow('Color Image',img_color)\n",
    "cv2.imshow('LAB',img_out)\n",
    "cv2.waitKey(0)"
   ]
  },
  {
   "cell_type": "code",
   "execution_count": null,
   "metadata": {},
   "outputs": [],
   "source": []
  }
 ],
 "metadata": {
  "kernelspec": {
   "display_name": "Python 3",
   "language": "python",
   "name": "python3"
  },
  "language_info": {
   "codemirror_mode": {
    "name": "ipython",
    "version": 3
   },
   "file_extension": ".py",
   "mimetype": "text/x-python",
   "name": "python",
   "nbconvert_exporter": "python",
   "pygments_lexer": "ipython3",
   "version": "3.9.6"
  },
  "orig_nbformat": 4
 },
 "nbformat": 4,
 "nbformat_minor": 2
}
